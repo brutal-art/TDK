{
 "cells": [
  {
   "cell_type": "code",
   "id": "initial_id",
   "metadata": {
    "collapsed": true,
    "jupyter": {
     "is_executing": true
    }
   },
   "source": [
    "import matplotlib.pyplot as plt\n",
    "\n",
    "# Adatok\n",
    "years = [2012, 2013, 2014, 2014, 2015, 2015, 2016, 2017, 2017]\n",
    "models = [\n",
    "    \"AlexNet\", \"ZFNet\", \"GoogLeNet\", \"VGG-16\",\n",
    "    \"ResNet-152\", \"PReLU-nets\", \"ResNeXt\", \"SENet-154\", \"Ember\"\n",
    "]\n",
    "errors = [15.3, 11.2, 6.67, 7.3, 3.57, 4.94, 4.1, 2.25, 5.0]\n",
    "\n",
    "# Külön kezeljük az \"Ember\" adatpontot\n",
    "years_plot = years[:-1]\n",
    "errors_plot = errors[:-1]\n",
    "models_plot = models[:-1]\n",
    "\n",
    "# Ábra készítése\n",
    "plt.figure(figsize=(10,6))\n",
    "plt.plot(years_plot, errors_plot, marker=\"o\", linestyle=\"-\", color=\"royalblue\", label=\"Modellek\")\n",
    "\n",
    "# Emberi teljesítmény hozzáadása\n",
    "plt.scatter(years[-1], errors[-1], color=\"red\", s=100, marker=\"*\", label=\"Ember (5%)\")\n",
    "\n",
    "# Címek és címkék magyarul\n",
    "plt.title(\"ImageNet hibaarány történeti alakulása\", fontsize=14, fontweight=\"bold\")\n",
    "plt.xlabel(\"Év\", fontsize=12)\n",
    "plt.ylabel(\"Top-5 hibaarány (%)\", fontsize=12)\n",
    "\n",
    "# Jelmagyarázat és rács\n",
    "plt.legend()\n",
    "plt.grid(True, linestyle=\"--\", alpha=0.6)\n",
    "\n",
    "# Értékek megjelenítése az adatpontok mellett\n",
    "for x, y, m in zip(years_plot, errors_plot, models_plot):\n",
    "    plt.text(x, y+0.4, m, ha=\"center\", fontsize=9)\n",
    "\n",
    "plt.text(years[-1], errors[-1]+0.4, \"Ember\", ha=\"center\", fontsize=10, color=\"red\", fontweight=\"bold\")\n",
    "\n",
    "plt.tight_layout()\n",
    "plt.show()"
   ],
   "outputs": [],
   "execution_count": null
  }
 ],
 "metadata": {
  "kernelspec": {
   "display_name": "Python 3",
   "language": "python",
   "name": "python3"
  },
  "language_info": {
   "codemirror_mode": {
    "name": "ipython",
    "version": 2
   },
   "file_extension": ".py",
   "mimetype": "text/x-python",
   "name": "python",
   "nbconvert_exporter": "python",
   "pygments_lexer": "ipython2",
   "version": "2.7.6"
  }
 },
 "nbformat": 4,
 "nbformat_minor": 5
}
